{
 "cells": [
  {
   "cell_type": "code",
   "execution_count": 2,
   "metadata": {},
   "outputs": [],
   "source": [
    "import sys\n",
    "sys.path.append('../..')\n",
    "\n",
    "from src.var_like import VarLikeModel"
   ]
  },
  {
   "cell_type": "code",
   "execution_count": 3,
   "metadata": {},
   "outputs": [],
   "source": [
    "import numpy as np\n",
    "import pandas as pd\n",
    "import matplotlib as mpl\n",
    "from matplotlib import pyplot as plt\n",
    "import seaborn as sns\n",
    "\n",
    "import IPython.display as display\n",
    "\n",
    "import warnings\n",
    "warnings.filterwarnings(\"ignore\")"
   ]
  },
  {
   "cell_type": "code",
   "execution_count": 4,
   "metadata": {},
   "outputs": [
    {
     "data": {
      "text/html": [
       "<div>\n",
       "<style scoped>\n",
       "    .dataframe tbody tr th:only-of-type {\n",
       "        vertical-align: middle;\n",
       "    }\n",
       "\n",
       "    .dataframe tbody tr th {\n",
       "        vertical-align: top;\n",
       "    }\n",
       "\n",
       "    .dataframe thead th {\n",
       "        text-align: right;\n",
       "    }\n",
       "</style>\n",
       "<table border=\"1\" class=\"dataframe\">\n",
       "  <thead>\n",
       "    <tr style=\"text-align: right;\">\n",
       "      <th></th>\n",
       "      <th>t</th>\n",
       "      <th>TS_0_coord_0</th>\n",
       "      <th>TS_1_coord_0</th>\n",
       "      <th>TS_2_coord_0</th>\n",
       "      <th>TS_3_coord_0</th>\n",
       "      <th>TS_4_coord_0</th>\n",
       "      <th>TS_5_coord_0</th>\n",
       "      <th>TS_6_coord_0</th>\n",
       "      <th>TS_7_coord_0</th>\n",
       "      <th>TS_8_coord_0</th>\n",
       "      <th>...</th>\n",
       "      <th>TS_40_coord_0</th>\n",
       "      <th>TS_41_coord_0</th>\n",
       "      <th>TS_42_coord_0</th>\n",
       "      <th>TS_43_coord_0</th>\n",
       "      <th>TS_44_coord_0</th>\n",
       "      <th>TS_45_coord_0</th>\n",
       "      <th>TS_46_coord_0</th>\n",
       "      <th>TS_47_coord_0</th>\n",
       "      <th>TS_48_coord_0</th>\n",
       "      <th>TS_49_coord_0</th>\n",
       "    </tr>\n",
       "  </thead>\n",
       "  <tbody>\n",
       "    <tr>\n",
       "      <th>0</th>\n",
       "      <td>0</td>\n",
       "      <td>777.679135</td>\n",
       "      <td>775.145167</td>\n",
       "      <td>779.134803</td>\n",
       "      <td>779.940318</td>\n",
       "      <td>778.026363</td>\n",
       "      <td>784.622101</td>\n",
       "      <td>777.189396</td>\n",
       "      <td>778.252745</td>\n",
       "      <td>779.079468</td>\n",
       "      <td>...</td>\n",
       "      <td>775.990131</td>\n",
       "      <td>776.544929</td>\n",
       "      <td>776.696670</td>\n",
       "      <td>775.502863</td>\n",
       "      <td>776.034399</td>\n",
       "      <td>779.124277</td>\n",
       "      <td>777.858835</td>\n",
       "      <td>772.493946</td>\n",
       "      <td>778.113188</td>\n",
       "      <td>781.139186</td>\n",
       "    </tr>\n",
       "    <tr>\n",
       "      <th>1</th>\n",
       "      <td>1</td>\n",
       "      <td>779.076261</td>\n",
       "      <td>776.546210</td>\n",
       "      <td>780.442133</td>\n",
       "      <td>780.675965</td>\n",
       "      <td>778.302130</td>\n",
       "      <td>784.288637</td>\n",
       "      <td>774.031459</td>\n",
       "      <td>777.958838</td>\n",
       "      <td>781.238591</td>\n",
       "      <td>...</td>\n",
       "      <td>775.690355</td>\n",
       "      <td>773.840369</td>\n",
       "      <td>775.158277</td>\n",
       "      <td>774.798338</td>\n",
       "      <td>774.527669</td>\n",
       "      <td>777.952551</td>\n",
       "      <td>782.555171</td>\n",
       "      <td>770.814566</td>\n",
       "      <td>777.173844</td>\n",
       "      <td>778.506020</td>\n",
       "    </tr>\n",
       "    <tr>\n",
       "      <th>2</th>\n",
       "      <td>2</td>\n",
       "      <td>780.463918</td>\n",
       "      <td>775.767970</td>\n",
       "      <td>778.328203</td>\n",
       "      <td>781.329404</td>\n",
       "      <td>777.655196</td>\n",
       "      <td>782.342678</td>\n",
       "      <td>775.171302</td>\n",
       "      <td>775.624617</td>\n",
       "      <td>779.597472</td>\n",
       "      <td>...</td>\n",
       "      <td>774.725358</td>\n",
       "      <td>774.788737</td>\n",
       "      <td>774.909912</td>\n",
       "      <td>776.028946</td>\n",
       "      <td>771.967426</td>\n",
       "      <td>774.937712</td>\n",
       "      <td>779.778453</td>\n",
       "      <td>773.937792</td>\n",
       "      <td>780.127145</td>\n",
       "      <td>774.693991</td>\n",
       "    </tr>\n",
       "    <tr>\n",
       "      <th>3</th>\n",
       "      <td>3</td>\n",
       "      <td>782.062161</td>\n",
       "      <td>774.817450</td>\n",
       "      <td>776.905897</td>\n",
       "      <td>779.395448</td>\n",
       "      <td>779.148350</td>\n",
       "      <td>782.584709</td>\n",
       "      <td>776.801345</td>\n",
       "      <td>776.009990</td>\n",
       "      <td>775.829146</td>\n",
       "      <td>...</td>\n",
       "      <td>781.270483</td>\n",
       "      <td>779.648506</td>\n",
       "      <td>776.739583</td>\n",
       "      <td>780.195431</td>\n",
       "      <td>774.619803</td>\n",
       "      <td>772.972471</td>\n",
       "      <td>783.537241</td>\n",
       "      <td>783.998422</td>\n",
       "      <td>776.423327</td>\n",
       "      <td>775.014931</td>\n",
       "    </tr>\n",
       "    <tr>\n",
       "      <th>4</th>\n",
       "      <td>4</td>\n",
       "      <td>781.943353</td>\n",
       "      <td>773.993488</td>\n",
       "      <td>775.856078</td>\n",
       "      <td>780.920122</td>\n",
       "      <td>780.324752</td>\n",
       "      <td>779.923217</td>\n",
       "      <td>777.294185</td>\n",
       "      <td>777.868083</td>\n",
       "      <td>775.931112</td>\n",
       "      <td>...</td>\n",
       "      <td>777.138367</td>\n",
       "      <td>772.004398</td>\n",
       "      <td>775.589954</td>\n",
       "      <td>780.118568</td>\n",
       "      <td>776.197269</td>\n",
       "      <td>774.892835</td>\n",
       "      <td>775.814396</td>\n",
       "      <td>780.589314</td>\n",
       "      <td>773.671797</td>\n",
       "      <td>774.153026</td>\n",
       "    </tr>\n",
       "  </tbody>\n",
       "</table>\n",
       "<p>5 rows × 51 columns</p>\n",
       "</div>"
      ],
      "text/plain": [
       "   t  TS_0_coord_0  TS_1_coord_0  TS_2_coord_0  TS_3_coord_0  TS_4_coord_0  \\\n",
       "0  0    777.679135    775.145167    779.134803    779.940318    778.026363   \n",
       "1  1    779.076261    776.546210    780.442133    780.675965    778.302130   \n",
       "2  2    780.463918    775.767970    778.328203    781.329404    777.655196   \n",
       "3  3    782.062161    774.817450    776.905897    779.395448    779.148350   \n",
       "4  4    781.943353    773.993488    775.856078    780.920122    780.324752   \n",
       "\n",
       "   TS_5_coord_0  TS_6_coord_0  TS_7_coord_0  TS_8_coord_0  ...  TS_40_coord_0  \\\n",
       "0    784.622101    777.189396    778.252745    779.079468  ...     775.990131   \n",
       "1    784.288637    774.031459    777.958838    781.238591  ...     775.690355   \n",
       "2    782.342678    775.171302    775.624617    779.597472  ...     774.725358   \n",
       "3    782.584709    776.801345    776.009990    775.829146  ...     781.270483   \n",
       "4    779.923217    777.294185    777.868083    775.931112  ...     777.138367   \n",
       "\n",
       "   TS_41_coord_0  TS_42_coord_0  TS_43_coord_0  TS_44_coord_0  TS_45_coord_0  \\\n",
       "0     776.544929     776.696670     775.502863     776.034399     779.124277   \n",
       "1     773.840369     775.158277     774.798338     774.527669     777.952551   \n",
       "2     774.788737     774.909912     776.028946     771.967426     774.937712   \n",
       "3     779.648506     776.739583     780.195431     774.619803     772.972471   \n",
       "4     772.004398     775.589954     780.118568     776.197269     774.892835   \n",
       "\n",
       "   TS_46_coord_0  TS_47_coord_0  TS_48_coord_0  TS_49_coord_0  \n",
       "0     777.858835     772.493946     778.113188     781.139186  \n",
       "1     782.555171     770.814566     777.173844     778.506020  \n",
       "2     779.778453     773.937792     780.127145     774.693991  \n",
       "3     783.537241     783.998422     776.423327     775.014931  \n",
       "4     775.814396     780.589314     773.671797     774.153026  \n",
       "\n",
       "[5 rows x 51 columns]"
      ]
     },
     "execution_count": 4,
     "metadata": {},
     "output_type": "execute_result"
    }
   ],
   "source": [
    "time_serires_data = pd.read_excel('../../data/Learning_data_part4.xlsx')\n",
    "time_serires_data.head()"
   ]
  },
  {
   "cell_type": "code",
   "execution_count": 5,
   "metadata": {},
   "outputs": [
    {
     "data": {
      "text/plain": [
       "50"
      ]
     },
     "execution_count": 5,
     "metadata": {},
     "output_type": "execute_result"
    }
   ],
   "source": [
    "num_series = time_serires_data.shape[1] - 1\n",
    "num_series"
   ]
  },
  {
   "cell_type": "code",
   "execution_count": 6,
   "metadata": {},
   "outputs": [],
   "source": [
    "anwser_array = np.empty((num_series, 2))"
   ]
  },
  {
   "cell_type": "code",
   "execution_count": 7,
   "metadata": {},
   "outputs": [],
   "source": [
    "for series_num in range(1, time_serires_data.shape[1]):\n",
    "    cur_series = time_serires_data.iloc[:, series_num].values\n",
    "    cur_series = cur_series.reshape((-1, 1))\n",
    "\n",
    "    var_model = VarLikeModel(cur_series)\n",
    "    window_size = 50\n",
    "\n",
    "    cur_answer = var_model.find_discordance_point(window_size)\n",
    "    anwser_array[series_num - 1] = cur_answer"
   ]
  },
  {
   "cell_type": "code",
   "execution_count": 8,
   "metadata": {},
   "outputs": [
    {
     "data": {
      "text/plain": [
       "<seaborn.axisgrid.FacetGrid at 0x72733b846950>"
      ]
     },
     "execution_count": 8,
     "metadata": {},
     "output_type": "execute_result"
    },
    {
     "data": {
      "image/png": "[encoded data removed]",
      "text/plain": [
       "<Figure size 500x500 with 1 Axes>"
      ]
     },
     "metadata": {},
     "output_type": "display_data"
    }
   ],
   "source": [
    "sns.displot(anwser_array[:, 1])"
   ]
  },
  {
   "cell_type": "code",
   "execution_count": 9,
   "metadata": {},
   "outputs": [],
   "source": [
    "# transform confidence to be summed into 1\n",
    "confidence = anwser_array[:, 1]\n",
    "confidence -= 0.4\n",
    "\n",
    "confidence[confidence < 0] = 1 / np.abs(confidence[confidence < 0])\n",
    "\n",
    "confidence /= np.sum(confidence)"
   ]
  },
  {
   "cell_type": "code",
   "execution_count": 10,
   "metadata": {},
   "outputs": [],
   "source": [
    "num_candies = 100000\n",
    "\n",
    "confidence *= num_candies\n",
    "confidence = confidence.astype(np.int32)"
   ]
  },
  {
   "cell_type": "code",
   "execution_count": 11,
   "metadata": {},
   "outputs": [
    {
     "data": {
      "text/plain": [
       "99974"
      ]
     },
     "execution_count": 11,
     "metadata": {},
     "output_type": "execute_result"
    }
   ],
   "source": [
    "confidence.sum()"
   ]
  },
  {
   "cell_type": "code",
   "execution_count": 12,
   "metadata": {},
   "outputs": [],
   "source": [
    "discord_inds = anwser_array[:, 0].astype(np.int32)"
   ]
  },
  {
   "cell_type": "code",
   "execution_count": 13,
   "metadata": {},
   "outputs": [
    {
     "data": {
      "text/html": [
       "<div>\n",
       "<style scoped>\n",
       "    .dataframe tbody tr th:only-of-type {\n",
       "        vertical-align: middle;\n",
       "    }\n",
       "\n",
       "    .dataframe tbody tr th {\n",
       "        vertical-align: top;\n",
       "    }\n",
       "\n",
       "    .dataframe thead th {\n",
       "        text-align: right;\n",
       "    }\n",
       "</style>\n",
       "<table border=\"1\" class=\"dataframe\">\n",
       "  <thead>\n",
       "    <tr style=\"text-align: right;\">\n",
       "      <th></th>\n",
       "      <th>T</th>\n",
       "      <th>D</th>\n",
       "    </tr>\n",
       "  </thead>\n",
       "  <tbody>\n",
       "    <tr>\n",
       "      <th>0</th>\n",
       "      <td>-1</td>\n",
       "      <td>1576</td>\n",
       "    </tr>\n",
       "    <tr>\n",
       "      <th>1</th>\n",
       "      <td>-1</td>\n",
       "      <td>1514</td>\n",
       "    </tr>\n",
       "    <tr>\n",
       "      <th>2</th>\n",
       "      <td>-1</td>\n",
       "      <td>1499</td>\n",
       "    </tr>\n",
       "    <tr>\n",
       "      <th>3</th>\n",
       "      <td>-1</td>\n",
       "      <td>1531</td>\n",
       "    </tr>\n",
       "    <tr>\n",
       "      <th>4</th>\n",
       "      <td>-1</td>\n",
       "      <td>1421</td>\n",
       "    </tr>\n",
       "  </tbody>\n",
       "</table>\n",
       "</div>"
      ],
      "text/plain": [
       "   T     D\n",
       "0 -1  1576\n",
       "1 -1  1514\n",
       "2 -1  1499\n",
       "3 -1  1531\n",
       "4 -1  1421"
      ]
     },
     "execution_count": 13,
     "metadata": {},
     "output_type": "execute_result"
    }
   ],
   "source": [
    "answer_frame = pd.DataFrame(data=np.concatenate((discord_inds.reshape((-1, 1)), confidence.reshape((-1, 1))), axis=1), \n",
    "                            columns=['T', 'D'],\n",
    "                )\n",
    "answer_frame.head()"
   ]
  },
  {
   "cell_type": "code",
   "execution_count": 14,
   "metadata": {},
   "outputs": [],
   "source": [
    "answer_frame.to_excel('./answers_part4.xlsx')"
   ]
  }
 ],
 "metadata": {
  "kernelspec": {
   "display_name": "base",
   "language": "python",
   "name": "python3"
  },
  "language_info": {
   "codemirror_mode": {
    "name": "ipython",
    "version": 3
   },
   "file_extension": ".py",
   "mimetype": "text/x-python",
   "name": "python",
   "nbconvert_exporter": "python",
   "pygments_lexer": "ipython3",
   "version": "3.11.5"
  }
 },
 "nbformat": 4,
 "nbformat_minor": 2
}
