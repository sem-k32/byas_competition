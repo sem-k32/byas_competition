{
 "cells": [
  {
   "cell_type": "code",
   "execution_count": 1,
   "metadata": {},
   "outputs": [],
   "source": [
    "import sys\n",
    "sys.path.append('../..')\n",
    "\n",
    "from src.var_like import VarLikeModel"
   ]
  },
  {
   "cell_type": "code",
   "execution_count": 2,
   "metadata": {},
   "outputs": [],
   "source": [
    "import numpy as np\n",
    "import pandas as pd\n",
    "import matplotlib as mpl\n",
    "from matplotlib import pyplot as plt\n",
    "import seaborn as sns\n",
    "\n",
    "import IPython.display as display\n",
    "\n",
    "import warnings\n",
    "warnings.filterwarnings(\"ignore\")"
   ]
  },
  {
   "cell_type": "code",
   "execution_count": 3,
   "metadata": {},
   "outputs": [
    {
     "data": {
      "text/html": [
       "<div>\n",
       "<style scoped>\n",
       "    .dataframe tbody tr th:only-of-type {\n",
       "        vertical-align: middle;\n",
       "    }\n",
       "\n",
       "    .dataframe tbody tr th {\n",
       "        vertical-align: top;\n",
       "    }\n",
       "\n",
       "    .dataframe thead th {\n",
       "        text-align: right;\n",
       "    }\n",
       "</style>\n",
       "<table border=\"1\" class=\"dataframe\">\n",
       "  <thead>\n",
       "    <tr style=\"text-align: right;\">\n",
       "      <th></th>\n",
       "      <th>t</th>\n",
       "      <th>TS_0_coord_0</th>\n",
       "      <th>TS_1_coord_0</th>\n",
       "      <th>TS_2_coord_0</th>\n",
       "      <th>TS_3_coord_0</th>\n",
       "      <th>TS_4_coord_0</th>\n",
       "      <th>TS_5_coord_0</th>\n",
       "      <th>TS_6_coord_0</th>\n",
       "      <th>TS_7_coord_0</th>\n",
       "      <th>TS_8_coord_0</th>\n",
       "      <th>...</th>\n",
       "      <th>TS_30_coord_0</th>\n",
       "      <th>TS_31_coord_0</th>\n",
       "      <th>TS_32_coord_0</th>\n",
       "      <th>TS_33_coord_0</th>\n",
       "      <th>TS_34_coord_0</th>\n",
       "      <th>TS_35_coord_0</th>\n",
       "      <th>TS_36_coord_0</th>\n",
       "      <th>TS_37_coord_0</th>\n",
       "      <th>TS_38_coord_0</th>\n",
       "      <th>TS_39_coord_0</th>\n",
       "    </tr>\n",
       "  </thead>\n",
       "  <tbody>\n",
       "    <tr>\n",
       "      <th>0</th>\n",
       "      <td>0</td>\n",
       "      <td>781.321365</td>\n",
       "      <td>775.966551</td>\n",
       "      <td>783.556732</td>\n",
       "      <td>771.280607</td>\n",
       "      <td>774.027931</td>\n",
       "      <td>777.959926</td>\n",
       "      <td>778.333318</td>\n",
       "      <td>778.183194</td>\n",
       "      <td>777.730134</td>\n",
       "      <td>...</td>\n",
       "      <td>775.488759</td>\n",
       "      <td>774.453930</td>\n",
       "      <td>773.188746</td>\n",
       "      <td>782.604506</td>\n",
       "      <td>774.217891</td>\n",
       "      <td>770.517303</td>\n",
       "      <td>773.841527</td>\n",
       "      <td>776.317916</td>\n",
       "      <td>776.760978</td>\n",
       "      <td>776.302157</td>\n",
       "    </tr>\n",
       "    <tr>\n",
       "      <th>1</th>\n",
       "      <td>1</td>\n",
       "      <td>777.294585</td>\n",
       "      <td>770.969730</td>\n",
       "      <td>779.097647</td>\n",
       "      <td>774.496980</td>\n",
       "      <td>773.775710</td>\n",
       "      <td>775.824789</td>\n",
       "      <td>775.591972</td>\n",
       "      <td>775.609835</td>\n",
       "      <td>774.532663</td>\n",
       "      <td>...</td>\n",
       "      <td>780.611902</td>\n",
       "      <td>782.928436</td>\n",
       "      <td>776.325164</td>\n",
       "      <td>779.177942</td>\n",
       "      <td>778.295495</td>\n",
       "      <td>776.679858</td>\n",
       "      <td>777.553003</td>\n",
       "      <td>772.785652</td>\n",
       "      <td>771.341136</td>\n",
       "      <td>773.685647</td>\n",
       "    </tr>\n",
       "    <tr>\n",
       "      <th>2</th>\n",
       "      <td>2</td>\n",
       "      <td>777.279457</td>\n",
       "      <td>781.374014</td>\n",
       "      <td>775.251241</td>\n",
       "      <td>776.724171</td>\n",
       "      <td>778.570462</td>\n",
       "      <td>780.465355</td>\n",
       "      <td>778.674903</td>\n",
       "      <td>771.862333</td>\n",
       "      <td>776.136027</td>\n",
       "      <td>...</td>\n",
       "      <td>778.592946</td>\n",
       "      <td>778.360002</td>\n",
       "      <td>777.322556</td>\n",
       "      <td>775.467944</td>\n",
       "      <td>776.677131</td>\n",
       "      <td>777.434007</td>\n",
       "      <td>775.273394</td>\n",
       "      <td>779.792243</td>\n",
       "      <td>778.046031</td>\n",
       "      <td>780.699803</td>\n",
       "    </tr>\n",
       "    <tr>\n",
       "      <th>3</th>\n",
       "      <td>3</td>\n",
       "      <td>779.030353</td>\n",
       "      <td>779.770403</td>\n",
       "      <td>774.373064</td>\n",
       "      <td>773.948711</td>\n",
       "      <td>774.675375</td>\n",
       "      <td>776.057615</td>\n",
       "      <td>778.948863</td>\n",
       "      <td>781.992196</td>\n",
       "      <td>775.421832</td>\n",
       "      <td>...</td>\n",
       "      <td>773.255963</td>\n",
       "      <td>771.479581</td>\n",
       "      <td>772.733706</td>\n",
       "      <td>778.036888</td>\n",
       "      <td>780.817795</td>\n",
       "      <td>775.236540</td>\n",
       "      <td>779.256064</td>\n",
       "      <td>779.933936</td>\n",
       "      <td>780.991255</td>\n",
       "      <td>777.648504</td>\n",
       "    </tr>\n",
       "    <tr>\n",
       "      <th>4</th>\n",
       "      <td>4</td>\n",
       "      <td>775.434026</td>\n",
       "      <td>777.144336</td>\n",
       "      <td>776.488376</td>\n",
       "      <td>778.314061</td>\n",
       "      <td>771.568250</td>\n",
       "      <td>780.918985</td>\n",
       "      <td>783.224207</td>\n",
       "      <td>772.358862</td>\n",
       "      <td>775.076323</td>\n",
       "      <td>...</td>\n",
       "      <td>778.985693</td>\n",
       "      <td>778.815208</td>\n",
       "      <td>765.283825</td>\n",
       "      <td>777.747031</td>\n",
       "      <td>772.512745</td>\n",
       "      <td>784.579475</td>\n",
       "      <td>783.162572</td>\n",
       "      <td>779.826215</td>\n",
       "      <td>776.169419</td>\n",
       "      <td>776.462723</td>\n",
       "    </tr>\n",
       "  </tbody>\n",
       "</table>\n",
       "<p>5 rows × 41 columns</p>\n",
       "</div>"
      ],
      "text/plain": [
       "   t  TS_0_coord_0  TS_1_coord_0  TS_2_coord_0  TS_3_coord_0  TS_4_coord_0  \\\n",
       "0  0    781.321365    775.966551    783.556732    771.280607    774.027931   \n",
       "1  1    777.294585    770.969730    779.097647    774.496980    773.775710   \n",
       "2  2    777.279457    781.374014    775.251241    776.724171    778.570462   \n",
       "3  3    779.030353    779.770403    774.373064    773.948711    774.675375   \n",
       "4  4    775.434026    777.144336    776.488376    778.314061    771.568250   \n",
       "\n",
       "   TS_5_coord_0  TS_6_coord_0  TS_7_coord_0  TS_8_coord_0  ...  TS_30_coord_0  \\\n",
       "0    777.959926    778.333318    778.183194    777.730134  ...     775.488759   \n",
       "1    775.824789    775.591972    775.609835    774.532663  ...     780.611902   \n",
       "2    780.465355    778.674903    771.862333    776.136027  ...     778.592946   \n",
       "3    776.057615    778.948863    781.992196    775.421832  ...     773.255963   \n",
       "4    780.918985    783.224207    772.358862    775.076323  ...     778.985693   \n",
       "\n",
       "   TS_31_coord_0  TS_32_coord_0  TS_33_coord_0  TS_34_coord_0  TS_35_coord_0  \\\n",
       "0     774.453930     773.188746     782.604506     774.217891     770.517303   \n",
       "1     782.928436     776.325164     779.177942     778.295495     776.679858   \n",
       "2     778.360002     777.322556     775.467944     776.677131     777.434007   \n",
       "3     771.479581     772.733706     778.036888     780.817795     775.236540   \n",
       "4     778.815208     765.283825     777.747031     772.512745     784.579475   \n",
       "\n",
       "   TS_36_coord_0  TS_37_coord_0  TS_38_coord_0  TS_39_coord_0  \n",
       "0     773.841527     776.317916     776.760978     776.302157  \n",
       "1     777.553003     772.785652     771.341136     773.685647  \n",
       "2     775.273394     779.792243     778.046031     780.699803  \n",
       "3     779.256064     779.933936     780.991255     777.648504  \n",
       "4     783.162572     779.826215     776.169419     776.462723  \n",
       "\n",
       "[5 rows x 41 columns]"
      ]
     },
     "execution_count": 3,
     "metadata": {},
     "output_type": "execute_result"
    }
   ],
   "source": [
    "time_serires_data = pd.read_excel('../../data/Learning_data_part1.xlsx')\n",
    "time_serires_data.head()"
   ]
  },
  {
   "cell_type": "code",
   "execution_count": 4,
   "metadata": {},
   "outputs": [
    {
     "data": {
      "text/plain": [
       "40"
      ]
     },
     "execution_count": 4,
     "metadata": {},
     "output_type": "execute_result"
    }
   ],
   "source": [
    "num_series = time_serires_data.shape[1] - 1\n",
    "num_series"
   ]
  },
  {
   "cell_type": "code",
   "execution_count": 5,
   "metadata": {},
   "outputs": [],
   "source": [
    "anwser_array = np.empty((num_series, 2))"
   ]
  },
  {
   "cell_type": "code",
   "execution_count": 6,
   "metadata": {},
   "outputs": [],
   "source": [
    "for series_num in range(1, time_serires_data.shape[1]):\n",
    "    cur_series = time_serires_data.iloc[:, series_num].values\n",
    "    cur_series = cur_series.reshape((-1, 1))\n",
    "\n",
    "    var_model = VarLikeModel(cur_series)\n",
    "    window_size = 50\n",
    "\n",
    "    cur_answer = var_model.find_discordance_point(window_size)\n",
    "    anwser_array[series_num - 1] = cur_answer"
   ]
  },
  {
   "cell_type": "code",
   "execution_count": 7,
   "metadata": {},
   "outputs": [
    {
     "data": {
      "text/plain": [
       "<seaborn.axisgrid.FacetGrid at 0x7eeb66236490>"
      ]
     },
     "execution_count": 7,
     "metadata": {},
     "output_type": "execute_result"
    },
    {
     "data": {
      "image/png": "[encoded data removed]",
      "text/plain": [
       "<Figure size 500x500 with 1 Axes>"
      ]
     },
     "metadata": {},
     "output_type": "display_data"
    }
   ],
   "source": [
    "sns.displot(anwser_array[:, 1], kind=\"kde\")"
   ]
  },
  {
   "cell_type": "code",
   "execution_count": 8,
   "metadata": {},
   "outputs": [
    {
     "data": {
      "text/plain": [
       "array([0.00698582, 0.01363393, 0.01162159, 0.00993062, 0.01246335,\n",
       "       0.01007932, 0.00470157, 0.01033247, 0.00688789, 0.02311229,\n",
       "       0.28726359, 0.0193433 , 0.02310727, 0.02612203, 0.0278725 ,\n",
       "       0.00396761, 0.00908868, 0.01591512, 0.00304293, 0.04785569,\n",
       "       0.00550495, 0.01280966, 0.02849928, 0.09747216, 0.00580633,\n",
       "       0.00794786, 0.00451525, 0.00503079, 0.03239837, 0.01730617,\n",
       "       0.01557444, 0.01498183, 0.00274147, 0.06418361, 0.01637415,\n",
       "       0.01319178, 0.02200409, 0.0148349 , 0.009604  , 0.03589134])"
      ]
     },
     "execution_count": 8,
     "metadata": {},
     "output_type": "execute_result"
    }
   ],
   "source": [
    "# transform confidence to be summed into 1\n",
    "confidence = anwser_array[:, 1].copy()\n",
    "\n",
    "confindence_new_1 = 1 / (confidence[confidence < 0.4]) - (1 / 0.4)\n",
    "confindence_new_2 = np.exp(3 * confidence[confidence >= 0.4]) - np.exp(0.4)\n",
    "\n",
    "indxs_1 = confidence < 0.4\n",
    "indxs_2 = confidence >= 0.4\n",
    "\n",
    "confidence[indxs_1] = confindence_new_1\n",
    "confidence[indxs_2] = confindence_new_2\n",
    "\n",
    "confidence /= np.sum(confidence)\n",
    "confidence"
   ]
  },
  {
   "cell_type": "code",
   "execution_count": 9,
   "metadata": {},
   "outputs": [
    {
     "data": {
      "text/plain": [
       "1.0"
      ]
     },
     "execution_count": 9,
     "metadata": {},
     "output_type": "execute_result"
    }
   ],
   "source": [
    "confidence.sum()"
   ]
  },
  {
   "cell_type": "code",
   "execution_count": 10,
   "metadata": {},
   "outputs": [],
   "source": [
    "num_candies = 100000 // 4\n",
    "\n",
    "confidence *= num_candies\n",
    "confidence = confidence.astype(np.int32)"
   ]
  },
  {
   "cell_type": "code",
   "execution_count": 11,
   "metadata": {},
   "outputs": [
    {
     "data": {
      "text/plain": [
       "24979"
      ]
     },
     "execution_count": 11,
     "metadata": {},
     "output_type": "execute_result"
    }
   ],
   "source": [
    "confidence.sum()"
   ]
  },
  {
   "cell_type": "code",
   "execution_count": 12,
   "metadata": {},
   "outputs": [],
   "source": [
    "discord_inds = anwser_array[:, 0].astype(np.int32)"
   ]
  },
  {
   "cell_type": "code",
   "execution_count": 13,
   "metadata": {},
   "outputs": [
    {
     "data": {
      "text/html": [
       "<div>\n",
       "<style scoped>\n",
       "    .dataframe tbody tr th:only-of-type {\n",
       "        vertical-align: middle;\n",
       "    }\n",
       "\n",
       "    .dataframe tbody tr th {\n",
       "        vertical-align: top;\n",
       "    }\n",
       "\n",
       "    .dataframe thead th {\n",
       "        text-align: right;\n",
       "    }\n",
       "</style>\n",
       "<table border=\"1\" class=\"dataframe\">\n",
       "  <thead>\n",
       "    <tr style=\"text-align: right;\">\n",
       "      <th></th>\n",
       "      <th>T</th>\n",
       "      <th>D</th>\n",
       "    </tr>\n",
       "  </thead>\n",
       "  <tbody>\n",
       "    <tr>\n",
       "      <th>0</th>\n",
       "      <td>10001</td>\n",
       "      <td>174</td>\n",
       "    </tr>\n",
       "    <tr>\n",
       "      <th>1</th>\n",
       "      <td>10001</td>\n",
       "      <td>340</td>\n",
       "    </tr>\n",
       "    <tr>\n",
       "      <th>2</th>\n",
       "      <td>10001</td>\n",
       "      <td>290</td>\n",
       "    </tr>\n",
       "    <tr>\n",
       "      <th>3</th>\n",
       "      <td>10001</td>\n",
       "      <td>248</td>\n",
       "    </tr>\n",
       "    <tr>\n",
       "      <th>4</th>\n",
       "      <td>10001</td>\n",
       "      <td>311</td>\n",
       "    </tr>\n",
       "  </tbody>\n",
       "</table>\n",
       "</div>"
      ],
      "text/plain": [
       "       T    D\n",
       "0  10001  174\n",
       "1  10001  340\n",
       "2  10001  290\n",
       "3  10001  248\n",
       "4  10001  311"
      ]
     },
     "execution_count": 13,
     "metadata": {},
     "output_type": "execute_result"
    }
   ],
   "source": [
    "answer_frame = pd.DataFrame(data=np.concatenate((discord_inds.reshape((-1, 1)), confidence.reshape((-1, 1))), axis=1), \n",
    "                            columns=['T', 'D'],\n",
    "                )\n",
    "answer_frame.head()"
   ]
  },
  {
   "cell_type": "code",
   "execution_count": 14,
   "metadata": {},
   "outputs": [],
   "source": [
    "answer_frame.to_excel('./answers_part1.xlsx')"
   ]
  }
 ],
 "metadata": {
  "kernelspec": {
   "display_name": "base",
   "language": "python",
   "name": "python3"
  },
  "language_info": {
   "codemirror_mode": {
    "name": "ipython",
    "version": 3
   },
   "file_extension": ".py",
   "mimetype": "text/x-python",
   "name": "python",
   "nbconvert_exporter": "python",
   "pygments_lexer": "ipython3",
   "version": "3.11.5"
  }
 },
 "nbformat": 4,
 "nbformat_minor": 2
}
