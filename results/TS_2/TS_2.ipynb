{
 "cells": [
  {
   "cell_type": "code",
   "execution_count": 1,
   "metadata": {},
   "outputs": [],
   "source": [
    "import sys\n",
    "sys.path.append('../..')\n",
    "\n",
    "from src.var_like import VarLikeModel"
   ]
  },
  {
   "cell_type": "code",
   "execution_count": 2,
   "metadata": {},
   "outputs": [],
   "source": [
    "import numpy as np\n",
    "import pandas as pd\n",
    "import matplotlib as mpl\n",
    "from matplotlib import pyplot as plt\n",
    "import seaborn as sns\n",
    "\n",
    "import IPython.display as display\n",
    "\n",
    "import warnings\n",
    "warnings.filterwarnings(\"ignore\")"
   ]
  },
  {
   "cell_type": "code",
   "execution_count": 3,
   "metadata": {},
   "outputs": [
    {
     "data": {
      "text/html": [
       "<div>\n",
       "<style scoped>\n",
       "    .dataframe tbody tr th:only-of-type {\n",
       "        vertical-align: middle;\n",
       "    }\n",
       "\n",
       "    .dataframe tbody tr th {\n",
       "        vertical-align: top;\n",
       "    }\n",
       "\n",
       "    .dataframe thead th {\n",
       "        text-align: right;\n",
       "    }\n",
       "</style>\n",
       "<table border=\"1\" class=\"dataframe\">\n",
       "  <thead>\n",
       "    <tr style=\"text-align: right;\">\n",
       "      <th></th>\n",
       "      <th>t</th>\n",
       "      <th>TS_0_coord_0</th>\n",
       "      <th>TS_1_coord_0</th>\n",
       "      <th>TS_2_coord_0</th>\n",
       "      <th>TS_3_coord_0</th>\n",
       "      <th>TS_4_coord_0</th>\n",
       "      <th>TS_5_coord_0</th>\n",
       "      <th>TS_6_coord_0</th>\n",
       "      <th>TS_7_coord_0</th>\n",
       "      <th>TS_8_coord_0</th>\n",
       "      <th>...</th>\n",
       "      <th>TS_50_coord_0</th>\n",
       "      <th>TS_51_coord_0</th>\n",
       "      <th>TS_52_coord_0</th>\n",
       "      <th>TS_53_coord_0</th>\n",
       "      <th>TS_54_coord_0</th>\n",
       "      <th>TS_55_coord_0</th>\n",
       "      <th>TS_56_coord_0</th>\n",
       "      <th>TS_57_coord_0</th>\n",
       "      <th>TS_58_coord_0</th>\n",
       "      <th>TS_59_coord_0</th>\n",
       "    </tr>\n",
       "  </thead>\n",
       "  <tbody>\n",
       "    <tr>\n",
       "      <th>0</th>\n",
       "      <td>0</td>\n",
       "      <td>-3.409188</td>\n",
       "      <td>-2.407987</td>\n",
       "      <td>4.336650</td>\n",
       "      <td>-0.373717</td>\n",
       "      <td>-8.233428</td>\n",
       "      <td>-1.870133</td>\n",
       "      <td>-0.167323</td>\n",
       "      <td>-1.511594</td>\n",
       "      <td>-4.261577</td>\n",
       "      <td>...</td>\n",
       "      <td>1.001072</td>\n",
       "      <td>0.999874</td>\n",
       "      <td>1.000519</td>\n",
       "      <td>0.999584</td>\n",
       "      <td>0.999710</td>\n",
       "      <td>1.000714</td>\n",
       "      <td>1.000141</td>\n",
       "      <td>0.998601</td>\n",
       "      <td>1.000978</td>\n",
       "      <td>0.999657</td>\n",
       "    </tr>\n",
       "    <tr>\n",
       "      <th>1</th>\n",
       "      <td>1</td>\n",
       "      <td>-1.301141</td>\n",
       "      <td>0.179917</td>\n",
       "      <td>3.420829</td>\n",
       "      <td>-1.431981</td>\n",
       "      <td>-0.943458</td>\n",
       "      <td>3.906801</td>\n",
       "      <td>1.804628</td>\n",
       "      <td>-2.485393</td>\n",
       "      <td>3.172589</td>\n",
       "      <td>...</td>\n",
       "      <td>1.001238</td>\n",
       "      <td>0.998442</td>\n",
       "      <td>1.002101</td>\n",
       "      <td>0.997588</td>\n",
       "      <td>1.000276</td>\n",
       "      <td>1.000275</td>\n",
       "      <td>0.999556</td>\n",
       "      <td>0.998472</td>\n",
       "      <td>1.001694</td>\n",
       "      <td>0.998848</td>\n",
       "    </tr>\n",
       "    <tr>\n",
       "      <th>2</th>\n",
       "      <td>2</td>\n",
       "      <td>-2.832516</td>\n",
       "      <td>0.128531</td>\n",
       "      <td>1.317262</td>\n",
       "      <td>4.305178</td>\n",
       "      <td>1.730649</td>\n",
       "      <td>2.562662</td>\n",
       "      <td>-6.652573</td>\n",
       "      <td>-0.298241</td>\n",
       "      <td>-1.593983</td>\n",
       "      <td>...</td>\n",
       "      <td>1.001069</td>\n",
       "      <td>0.997301</td>\n",
       "      <td>1.001905</td>\n",
       "      <td>0.996956</td>\n",
       "      <td>0.999332</td>\n",
       "      <td>1.000806</td>\n",
       "      <td>1.001417</td>\n",
       "      <td>0.999247</td>\n",
       "      <td>1.001115</td>\n",
       "      <td>0.998833</td>\n",
       "    </tr>\n",
       "    <tr>\n",
       "      <th>3</th>\n",
       "      <td>3</td>\n",
       "      <td>-3.812846</td>\n",
       "      <td>-3.403033</td>\n",
       "      <td>-2.549219</td>\n",
       "      <td>1.304434</td>\n",
       "      <td>-5.203170</td>\n",
       "      <td>4.553835</td>\n",
       "      <td>0.322669</td>\n",
       "      <td>-0.576871</td>\n",
       "      <td>-2.230504</td>\n",
       "      <td>...</td>\n",
       "      <td>1.001607</td>\n",
       "      <td>0.998654</td>\n",
       "      <td>1.002728</td>\n",
       "      <td>0.995967</td>\n",
       "      <td>0.998169</td>\n",
       "      <td>1.000737</td>\n",
       "      <td>1.002283</td>\n",
       "      <td>0.998968</td>\n",
       "      <td>0.999787</td>\n",
       "      <td>0.997835</td>\n",
       "    </tr>\n",
       "    <tr>\n",
       "      <th>4</th>\n",
       "      <td>4</td>\n",
       "      <td>1.223246</td>\n",
       "      <td>4.283249</td>\n",
       "      <td>4.191157</td>\n",
       "      <td>9.180627</td>\n",
       "      <td>-4.221019</td>\n",
       "      <td>3.582291</td>\n",
       "      <td>-0.239433</td>\n",
       "      <td>-3.032084</td>\n",
       "      <td>3.508173</td>\n",
       "      <td>...</td>\n",
       "      <td>1.002264</td>\n",
       "      <td>0.999228</td>\n",
       "      <td>1.002623</td>\n",
       "      <td>0.995078</td>\n",
       "      <td>0.998596</td>\n",
       "      <td>1.002500</td>\n",
       "      <td>1.002029</td>\n",
       "      <td>0.999980</td>\n",
       "      <td>0.998672</td>\n",
       "      <td>0.997843</td>\n",
       "    </tr>\n",
       "  </tbody>\n",
       "</table>\n",
       "<p>5 rows × 61 columns</p>\n",
       "</div>"
      ],
      "text/plain": [
       "   t  TS_0_coord_0  TS_1_coord_0  TS_2_coord_0  TS_3_coord_0  TS_4_coord_0  \\\n",
       "0  0     -3.409188     -2.407987      4.336650     -0.373717     -8.233428   \n",
       "1  1     -1.301141      0.179917      3.420829     -1.431981     -0.943458   \n",
       "2  2     -2.832516      0.128531      1.317262      4.305178      1.730649   \n",
       "3  3     -3.812846     -3.403033     -2.549219      1.304434     -5.203170   \n",
       "4  4      1.223246      4.283249      4.191157      9.180627     -4.221019   \n",
       "\n",
       "   TS_5_coord_0  TS_6_coord_0  TS_7_coord_0  TS_8_coord_0  ...  TS_50_coord_0  \\\n",
       "0     -1.870133     -0.167323     -1.511594     -4.261577  ...       1.001072   \n",
       "1      3.906801      1.804628     -2.485393      3.172589  ...       1.001238   \n",
       "2      2.562662     -6.652573     -0.298241     -1.593983  ...       1.001069   \n",
       "3      4.553835      0.322669     -0.576871     -2.230504  ...       1.001607   \n",
       "4      3.582291     -0.239433     -3.032084      3.508173  ...       1.002264   \n",
       "\n",
       "   TS_51_coord_0  TS_52_coord_0  TS_53_coord_0  TS_54_coord_0  TS_55_coord_0  \\\n",
       "0       0.999874       1.000519       0.999584       0.999710       1.000714   \n",
       "1       0.998442       1.002101       0.997588       1.000276       1.000275   \n",
       "2       0.997301       1.001905       0.996956       0.999332       1.000806   \n",
       "3       0.998654       1.002728       0.995967       0.998169       1.000737   \n",
       "4       0.999228       1.002623       0.995078       0.998596       1.002500   \n",
       "\n",
       "   TS_56_coord_0  TS_57_coord_0  TS_58_coord_0  TS_59_coord_0  \n",
       "0       1.000141       0.998601       1.000978       0.999657  \n",
       "1       0.999556       0.998472       1.001694       0.998848  \n",
       "2       1.001417       0.999247       1.001115       0.998833  \n",
       "3       1.002283       0.998968       0.999787       0.997835  \n",
       "4       1.002029       0.999980       0.998672       0.997843  \n",
       "\n",
       "[5 rows x 61 columns]"
      ]
     },
     "execution_count": 3,
     "metadata": {},
     "output_type": "execute_result"
    }
   ],
   "source": [
    "time_serires_data = pd.read_excel('../../data/Learning_data_part2.xlsx')\n",
    "time_serires_data.head()"
   ]
  },
  {
   "cell_type": "code",
   "execution_count": 4,
   "metadata": {},
   "outputs": [
    {
     "data": {
      "text/plain": [
       "60"
      ]
     },
     "execution_count": 4,
     "metadata": {},
     "output_type": "execute_result"
    }
   ],
   "source": [
    "num_series = time_serires_data.shape[1] - 1\n",
    "num_series"
   ]
  },
  {
   "cell_type": "code",
   "execution_count": 5,
   "metadata": {},
   "outputs": [],
   "source": [
    "anwser_array = np.empty((num_series, 2))"
   ]
  },
  {
   "cell_type": "code",
   "execution_count": 6,
   "metadata": {},
   "outputs": [],
   "source": [
    "for series_num in range(1, time_serires_data.shape[1]):\n",
    "    cur_series = time_serires_data.iloc[:, series_num].values\n",
    "    cur_series = cur_series.reshape((-1, 1))\n",
    "\n",
    "    var_model = VarLikeModel(cur_series)\n",
    "    window_size = 50\n",
    "\n",
    "    cur_answer = var_model.find_discordance_point(window_size)\n",
    "    anwser_array[series_num - 1] = cur_answer"
   ]
  },
  {
   "cell_type": "code",
   "execution_count": 7,
   "metadata": {},
   "outputs": [
    {
     "data": {
      "text/plain": [
       "<seaborn.axisgrid.FacetGrid at 0x792e7f24e1d0>"
      ]
     },
     "execution_count": 7,
     "metadata": {},
     "output_type": "execute_result"
    },
    {
     "data": {
      "image/png": "[encoded data removed]",
      "text/plain": [
       "<Figure size 500x500 with 1 Axes>"
      ]
     },
     "metadata": {},
     "output_type": "display_data"
    }
   ],
   "source": [
    "sns.displot(anwser_array[:, 1], kind=\"kde\")"
   ]
  },
  {
   "cell_type": "code",
   "execution_count": 8,
   "metadata": {},
   "outputs": [],
   "source": [
    "# transform confidence to be summed into 1\n",
    "confidence = anwser_array[:, 1]\n",
    "confidence -= 0.4\n",
    "\n",
    "confidence[confidence < 0] = 1 / np.abs(confidence[confidence < 0])\n",
    "\n",
    "confidence /= np.sum(confidence)"
   ]
  },
  {
   "cell_type": "code",
   "execution_count": 9,
   "metadata": {},
   "outputs": [],
   "source": [
    "num_candies = 100000\n",
    "\n",
    "confidence *= num_candies\n",
    "confidence = confidence.astype(np.int32)"
   ]
  },
  {
   "cell_type": "code",
   "execution_count": 10,
   "metadata": {},
   "outputs": [
    {
     "data": {
      "text/plain": [
       "99968"
      ]
     },
     "execution_count": 10,
     "metadata": {},
     "output_type": "execute_result"
    }
   ],
   "source": [
    "confidence.sum()"
   ]
  },
  {
   "cell_type": "code",
   "execution_count": 11,
   "metadata": {},
   "outputs": [],
   "source": [
    "discord_inds = anwser_array[:, 0].astype(np.int32)"
   ]
  },
  {
   "cell_type": "code",
   "execution_count": 12,
   "metadata": {},
   "outputs": [
    {
     "data": {
      "text/html": [
       "<div>\n",
       "<style scoped>\n",
       "    .dataframe tbody tr th:only-of-type {\n",
       "        vertical-align: middle;\n",
       "    }\n",
       "\n",
       "    .dataframe tbody tr th {\n",
       "        vertical-align: top;\n",
       "    }\n",
       "\n",
       "    .dataframe thead th {\n",
       "        text-align: right;\n",
       "    }\n",
       "</style>\n",
       "<table border=\"1\" class=\"dataframe\">\n",
       "  <thead>\n",
       "    <tr style=\"text-align: right;\">\n",
       "      <th></th>\n",
       "      <th>T</th>\n",
       "      <th>D</th>\n",
       "    </tr>\n",
       "  </thead>\n",
       "  <tbody>\n",
       "    <tr>\n",
       "      <th>0</th>\n",
       "      <td>-1</td>\n",
       "      <td>930</td>\n",
       "    </tr>\n",
       "    <tr>\n",
       "      <th>1</th>\n",
       "      <td>-1</td>\n",
       "      <td>879</td>\n",
       "    </tr>\n",
       "    <tr>\n",
       "      <th>2</th>\n",
       "      <td>-1</td>\n",
       "      <td>5616</td>\n",
       "    </tr>\n",
       "    <tr>\n",
       "      <th>3</th>\n",
       "      <td>-1</td>\n",
       "      <td>1131</td>\n",
       "    </tr>\n",
       "    <tr>\n",
       "      <th>4</th>\n",
       "      <td>-1</td>\n",
       "      <td>2323</td>\n",
       "    </tr>\n",
       "  </tbody>\n",
       "</table>\n",
       "</div>"
      ],
      "text/plain": [
       "   T     D\n",
       "0 -1   930\n",
       "1 -1   879\n",
       "2 -1  5616\n",
       "3 -1  1131\n",
       "4 -1  2323"
      ]
     },
     "execution_count": 12,
     "metadata": {},
     "output_type": "execute_result"
    }
   ],
   "source": [
    "answer_frame = pd.DataFrame(data=np.concatenate((discord_inds.reshape((-1, 1)), confidence.reshape((-1, 1))), axis=1), \n",
    "                            columns=['T', 'D'],\n",
    "                )\n",
    "answer_frame.head()"
   ]
  },
  {
   "cell_type": "code",
   "execution_count": 25,
   "metadata": {},
   "outputs": [],
   "source": [
    "answer_frame.to_excel('./answers_part2.xlsx')"
   ]
  }
 ],
 "metadata": {
  "kernelspec": {
   "display_name": "base",
   "language": "python",
   "name": "python3"
  },
  "language_info": {
   "codemirror_mode": {
    "name": "ipython",
    "version": 3
   },
   "file_extension": ".py",
   "mimetype": "text/x-python",
   "name": "python",
   "nbconvert_exporter": "python",
   "pygments_lexer": "ipython3",
   "version": "3.11.5"
  }
 },
 "nbformat": 4,
 "nbformat_minor": 2
}
